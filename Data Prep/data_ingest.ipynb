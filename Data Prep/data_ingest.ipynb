{
 "cells": [
  {
   "cell_type": "code",
   "execution_count": 1,
   "metadata": {},
   "outputs": [],
   "source": [
    "import numpy as np\n",
    "import pandas as pd\n",
    "import seaborn as sns\n",
    "import matplotlib.pyplot as plt\n",
    "import downloadhelper as dh\n",
    "import xenocanto_download as xc\n",
    "import asyncio\n"
   ]
  },
  {
   "cell_type": "code",
   "execution_count": null,
   "metadata": {},
   "outputs": [],
   "source": []
  },
  {
   "cell_type": "code",
   "execution_count": 8,
   "metadata": {},
   "outputs": [],
   "source": [
    "df = dh.json_to_df(\"dataset/metadata/Parusmajor/\")"
   ]
  },
  {
   "cell_type": "code",
   "execution_count": 9,
   "metadata": {},
   "outputs": [
    {
     "name": "stderr",
     "output_type": "stream",
     "text": [
      "/Users/learning/Documents/Bird Song ID/birdsong_detector/Data Prep/downloadhelper.py:21: UserWarning: Boolean Series key will be reindexed to match DataFrame index.\n",
      "  new_df = new_df[(df['type'] == 'song')]\n"
     ]
    }
   ],
   "source": [
    "df = dh.clean_data(df)\n"
   ]
  },
  {
   "cell_type": "code",
   "execution_count": 10,
   "metadata": {},
   "outputs": [
    {
     "name": "stdout",
     "output_type": "stream",
     "text": [
      "<class 'pandas.core.frame.DataFrame'>\n",
      "Int64Index: 1532 entries, 1 to 6496\n",
      "Data columns (total 14 columns):\n",
      " #   Column     Non-Null Count  Dtype \n",
      "---  ------     --------------  ----- \n",
      " 0   id         1532 non-null   object\n",
      " 1   gen        1532 non-null   object\n",
      " 2   sp         1532 non-null   object\n",
      " 3   ssp        1532 non-null   object\n",
      " 4   group      1532 non-null   object\n",
      " 5   en         1532 non-null   object\n",
      " 6   type       1532 non-null   object\n",
      " 7   sex        1532 non-null   object\n",
      " 8   stage      1532 non-null   object\n",
      " 9   file       1532 non-null   object\n",
      " 10  lic        1532 non-null   object\n",
      " 11  q          1532 non-null   object\n",
      " 12  length     1532 non-null   object\n",
      " 13  bird-seen  1532 non-null   object\n",
      "dtypes: object(14)\n",
      "memory usage: 179.5+ KB\n"
     ]
    }
   ],
   "source": [
    "df.info()\n",
    "\n"
   ]
  },
  {
   "cell_type": "code",
   "execution_count": 5,
   "metadata": {},
   "outputs": [],
   "source": [
    "df = df[df['q'] == 'A']"
   ]
  },
  {
   "cell_type": "code",
   "execution_count": 7,
   "metadata": {},
   "outputs": [
    {
     "name": "stdout",
     "output_type": "stream",
     "text": [
      "<class 'pandas.core.frame.DataFrame'>\n",
      "Int64Index: 571 entries, 1 to 1812\n",
      "Data columns (total 14 columns):\n",
      " #   Column     Non-Null Count  Dtype \n",
      "---  ------     --------------  ----- \n",
      " 0   id         571 non-null    object\n",
      " 1   gen        571 non-null    object\n",
      " 2   sp         571 non-null    object\n",
      " 3   ssp        571 non-null    object\n",
      " 4   group      571 non-null    object\n",
      " 5   en         571 non-null    object\n",
      " 6   type       571 non-null    object\n",
      " 7   sex        571 non-null    object\n",
      " 8   stage      571 non-null    object\n",
      " 9   file       571 non-null    object\n",
      " 10  lic        571 non-null    object\n",
      " 11  q          571 non-null    object\n",
      " 12  length     571 non-null    object\n",
      " 13  bird-seen  571 non-null    object\n",
      "dtypes: object(14)\n",
      "memory usage: 66.9+ KB\n"
     ]
    }
   ],
   "source": [
    "df.info()"
   ]
  },
  {
   "cell_type": "code",
   "execution_count": null,
   "metadata": {},
   "outputs": [],
   "source": [
    "url_list = list(map(tuple, df[['id', 'file']].to_numpy()))\n",
    "path = \"dataset/audio/\" + df['gen'][1] + df['sp'][1] + '/' + df['q'][1] + '/'\n",
    "\n"
   ]
  },
  {
   "cell_type": "code",
   "execution_count": null,
   "metadata": {},
   "outputs": [],
   "source": [
    "# await xc.download(url_list, path)"
   ]
  },
  {
   "cell_type": "code",
   "execution_count": null,
   "metadata": {},
   "outputs": [],
   "source": [
    "df.length"
   ]
  },
  {
   "cell_type": "code",
   "execution_count": null,
   "metadata": {},
   "outputs": [],
   "source": []
  }
 ],
 "metadata": {
  "kernelspec": {
   "display_name": "Python 3.10.6 ('birdsong')",
   "language": "python",
   "name": "python3"
  },
  "language_info": {
   "codemirror_mode": {
    "name": "ipython",
    "version": 3
   },
   "file_extension": ".py",
   "mimetype": "text/x-python",
   "name": "python",
   "nbconvert_exporter": "python",
   "pygments_lexer": "ipython3",
   "version": "3.10.6"
  },
  "orig_nbformat": 4,
  "vscode": {
   "interpreter": {
    "hash": "943cd2b0b234cc2a497a6d4cdebecf41edbcb6a1aca9b170d39e8e4a7041e2c7"
   }
  }
 },
 "nbformat": 4,
 "nbformat_minor": 2
}
