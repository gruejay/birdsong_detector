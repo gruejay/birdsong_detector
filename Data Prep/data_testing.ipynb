{
 "cells": [
  {
   "cell_type": "code",
   "execution_count": 26,
   "metadata": {},
   "outputs": [],
   "source": [
    "\n",
    "import numpy as np\n",
    "import pandas as pd\n",
    "import seaborn as sns\n",
    "import matplotlib.pyplot as plt\n",
    "import json\n",
    "import xenocanto_download"
   ]
  },
  {
   "cell_type": "code",
   "execution_count": 27,
   "metadata": {},
   "outputs": [
    {
     "name": "stdout",
     "output_type": "stream",
     "text": [
      "<class 'pandas.core.frame.DataFrame'>\n",
      "RangeIndex: 74 entries, 0 to 73\n",
      "Data columns (total 38 columns):\n",
      " #   Column         Non-Null Count  Dtype \n",
      "---  ------         --------------  ----- \n",
      " 0   id             74 non-null     object\n",
      " 1   gen            74 non-null     object\n",
      " 2   sp             74 non-null     object\n",
      " 3   ssp            74 non-null     object\n",
      " 4   group          74 non-null     object\n",
      " 5   en             74 non-null     object\n",
      " 6   rec            74 non-null     object\n",
      " 7   cnt            74 non-null     object\n",
      " 8   loc            74 non-null     object\n",
      " 9   lat            73 non-null     object\n",
      " 10  lng            73 non-null     object\n",
      " 11  alt            74 non-null     object\n",
      " 12  type           74 non-null     object\n",
      " 13  sex            74 non-null     object\n",
      " 14  stage          74 non-null     object\n",
      " 15  method         74 non-null     object\n",
      " 16  url            74 non-null     object\n",
      " 17  file           74 non-null     object\n",
      " 18  file-name      74 non-null     object\n",
      " 19  sono           74 non-null     object\n",
      " 20  osci           74 non-null     object\n",
      " 21  lic            74 non-null     object\n",
      " 22  q              74 non-null     object\n",
      " 23  length         74 non-null     object\n",
      " 24  time           74 non-null     object\n",
      " 25  date           74 non-null     object\n",
      " 26  uploaded       74 non-null     object\n",
      " 27  also           74 non-null     object\n",
      " 28  rmk            74 non-null     object\n",
      " 29  bird-seen      74 non-null     object\n",
      " 30  animal-seen    74 non-null     object\n",
      " 31  playback-used  74 non-null     object\n",
      " 32  temp           74 non-null     object\n",
      " 33  regnr          74 non-null     object\n",
      " 34  auto           74 non-null     object\n",
      " 35  dvc            74 non-null     object\n",
      " 36  mic            74 non-null     object\n",
      " 37  smp            74 non-null     object\n",
      "dtypes: object(38)\n",
      "memory usage: 22.1+ KB\n"
     ]
    }
   ],
   "source": [
    "recordings = list()\n",
    "num_pages = 0\n",
    "\n",
    "\n",
    "with open(\"dataset/metadata/BeardedBellbird/page1.json\",'r') as file:\n",
    "    full_obj = json.load(file)\n",
    "    if full_obj['numRecordings'] == 0:\n",
    "        print('There are no recordings')\n",
    "        quit()\n",
    "    else:\n",
    "        num_pages = full_obj['numPages']   \n",
    "    recordings = recordings + full_obj['recordings']\n",
    "\n",
    "\n",
    "for i in range(2,num_pages):\n",
    "    with open(\"page{}.json\".format(i),'r') as file:\n",
    "        full_obj = json.load(file)\n",
    "        recordings = recordings + full_obj['recordings']\n",
    "\n",
    "df = pd.DataFrame.from_records(recordings)\n",
    "df.info()"
   ]
  },
  {
   "cell_type": "code",
   "execution_count": 24,
   "metadata": {},
   "outputs": [
    {
     "data": {
      "text/plain": [
       "Index(['id', 'gen', 'sp', 'ssp', 'group', 'en', 'type', 'sex', 'stage', 'url',\n",
       "       'q', 'length', 'bird-seen'],\n",
       "      dtype='object')"
      ]
     },
     "execution_count": 24,
     "metadata": {},
     "output_type": "execute_result"
    }
   ],
   "source": [
    "df.columns"
   ]
  },
  {
   "cell_type": "code",
   "execution_count": 28,
   "metadata": {},
   "outputs": [],
   "source": [
    "df.drop(['rec', 'cnt', 'loc', 'lat','lng', 'alt', 'method', 'file',\n",
    "       'file-name', 'sono', 'osci', 'lic', 'time', 'date',\n",
    "       'uploaded', 'also', 'rmk', 'animal-seen', 'playback-used',\n",
    "       'temp', 'regnr', 'auto', 'dvc', 'mic', 'smp'], axis=1, inplace=True)"
   ]
  },
  {
   "cell_type": "code",
   "execution_count": null,
   "metadata": {},
   "outputs": [],
   "source": [
    "sns.heatmap(df.isnull())"
   ]
  },
  {
   "cell_type": "code",
   "execution_count": 29,
   "metadata": {},
   "outputs": [
    {
     "data": {
      "text/plain": [
       "['no score', 'A', 'B', 'C', 'D']"
      ]
     },
     "execution_count": 29,
     "metadata": {},
     "output_type": "execute_result"
    }
   ],
   "source": [
    "list(df['q'].unique())\n"
   ]
  },
  {
   "cell_type": "code",
   "execution_count": 30,
   "metadata": {},
   "outputs": [],
   "source": [
    "df = df[(df['type'] == 'song')]\n",
    "df = df[(df['q'] == 'A')]"
   ]
  },
  {
   "cell_type": "code",
   "execution_count": 32,
   "metadata": {},
   "outputs": [
    {
     "data": {
      "text/html": [
       "<div>\n",
       "<style scoped>\n",
       "    .dataframe tbody tr th:only-of-type {\n",
       "        vertical-align: middle;\n",
       "    }\n",
       "\n",
       "    .dataframe tbody tr th {\n",
       "        vertical-align: top;\n",
       "    }\n",
       "\n",
       "    .dataframe thead th {\n",
       "        text-align: right;\n",
       "    }\n",
       "</style>\n",
       "<table border=\"1\" class=\"dataframe\">\n",
       "  <thead>\n",
       "    <tr style=\"text-align: right;\">\n",
       "      <th></th>\n",
       "      <th>id</th>\n",
       "      <th>gen</th>\n",
       "      <th>sp</th>\n",
       "      <th>ssp</th>\n",
       "      <th>group</th>\n",
       "      <th>en</th>\n",
       "      <th>type</th>\n",
       "      <th>sex</th>\n",
       "      <th>stage</th>\n",
       "      <th>url</th>\n",
       "      <th>q</th>\n",
       "      <th>length</th>\n",
       "      <th>bird-seen</th>\n",
       "    </tr>\n",
       "  </thead>\n",
       "  <tbody>\n",
       "    <tr>\n",
       "      <th>1</th>\n",
       "      <td>742170</td>\n",
       "      <td>Procnias</td>\n",
       "      <td>averano</td>\n",
       "      <td></td>\n",
       "      <td>birds</td>\n",
       "      <td>Bearded Bellbird</td>\n",
       "      <td>song</td>\n",
       "      <td>male</td>\n",
       "      <td>adult</td>\n",
       "      <td>//xeno-canto.org/742170</td>\n",
       "      <td>A</td>\n",
       "      <td>0:12</td>\n",
       "      <td>yes</td>\n",
       "    </tr>\n",
       "    <tr>\n",
       "      <th>2</th>\n",
       "      <td>742165</td>\n",
       "      <td>Procnias</td>\n",
       "      <td>averano</td>\n",
       "      <td></td>\n",
       "      <td>birds</td>\n",
       "      <td>Bearded Bellbird</td>\n",
       "      <td>song</td>\n",
       "      <td>male</td>\n",
       "      <td>adult</td>\n",
       "      <td>//xeno-canto.org/742165</td>\n",
       "      <td>A</td>\n",
       "      <td>0:38</td>\n",
       "      <td>yes</td>\n",
       "    </tr>\n",
       "    <tr>\n",
       "      <th>6</th>\n",
       "      <td>493159</td>\n",
       "      <td>Procnias</td>\n",
       "      <td>averano</td>\n",
       "      <td></td>\n",
       "      <td>birds</td>\n",
       "      <td>Bearded Bellbird</td>\n",
       "      <td>song</td>\n",
       "      <td></td>\n",
       "      <td></td>\n",
       "      <td>//xeno-canto.org/493159</td>\n",
       "      <td>A</td>\n",
       "      <td>0:22</td>\n",
       "      <td>yes</td>\n",
       "    </tr>\n",
       "    <tr>\n",
       "      <th>7</th>\n",
       "      <td>460345</td>\n",
       "      <td>Procnias</td>\n",
       "      <td>averano</td>\n",
       "      <td></td>\n",
       "      <td>birds</td>\n",
       "      <td>Bearded Bellbird</td>\n",
       "      <td>song</td>\n",
       "      <td></td>\n",
       "      <td></td>\n",
       "      <td>//xeno-canto.org/460345</td>\n",
       "      <td>A</td>\n",
       "      <td>5:44</td>\n",
       "      <td>yes</td>\n",
       "    </tr>\n",
       "    <tr>\n",
       "      <th>13</th>\n",
       "      <td>287540</td>\n",
       "      <td>Procnias</td>\n",
       "      <td>averano</td>\n",
       "      <td></td>\n",
       "      <td>birds</td>\n",
       "      <td>Bearded Bellbird</td>\n",
       "      <td>song</td>\n",
       "      <td></td>\n",
       "      <td></td>\n",
       "      <td>//xeno-canto.org/287540</td>\n",
       "      <td>A</td>\n",
       "      <td>0:38</td>\n",
       "      <td>yes</td>\n",
       "    </tr>\n",
       "    <tr>\n",
       "      <th>16</th>\n",
       "      <td>197484</td>\n",
       "      <td>Procnias</td>\n",
       "      <td>averano</td>\n",
       "      <td></td>\n",
       "      <td>birds</td>\n",
       "      <td>Bearded Bellbird</td>\n",
       "      <td>song</td>\n",
       "      <td></td>\n",
       "      <td></td>\n",
       "      <td>//xeno-canto.org/197484</td>\n",
       "      <td>A</td>\n",
       "      <td>0:20</td>\n",
       "      <td>yes</td>\n",
       "    </tr>\n",
       "    <tr>\n",
       "      <th>17</th>\n",
       "      <td>189848</td>\n",
       "      <td>Procnias</td>\n",
       "      <td>averano</td>\n",
       "      <td></td>\n",
       "      <td>birds</td>\n",
       "      <td>Bearded Bellbird</td>\n",
       "      <td>song</td>\n",
       "      <td>male</td>\n",
       "      <td></td>\n",
       "      <td>//xeno-canto.org/189848</td>\n",
       "      <td>A</td>\n",
       "      <td>0:24</td>\n",
       "      <td>yes</td>\n",
       "    </tr>\n",
       "    <tr>\n",
       "      <th>18</th>\n",
       "      <td>163654</td>\n",
       "      <td>Procnias</td>\n",
       "      <td>averano</td>\n",
       "      <td>averano</td>\n",
       "      <td>birds</td>\n",
       "      <td>Bearded Bellbird</td>\n",
       "      <td>song</td>\n",
       "      <td>male</td>\n",
       "      <td></td>\n",
       "      <td>//xeno-canto.org/163654</td>\n",
       "      <td>A</td>\n",
       "      <td>0:30</td>\n",
       "      <td>yes</td>\n",
       "    </tr>\n",
       "  </tbody>\n",
       "</table>\n",
       "</div>"
      ],
      "text/plain": [
       "        id       gen       sp      ssp  group                en  type   sex  \\\n",
       "1   742170  Procnias  averano           birds  Bearded Bellbird  song  male   \n",
       "2   742165  Procnias  averano           birds  Bearded Bellbird  song  male   \n",
       "6   493159  Procnias  averano           birds  Bearded Bellbird  song         \n",
       "7   460345  Procnias  averano           birds  Bearded Bellbird  song         \n",
       "13  287540  Procnias  averano           birds  Bearded Bellbird  song         \n",
       "16  197484  Procnias  averano           birds  Bearded Bellbird  song         \n",
       "17  189848  Procnias  averano           birds  Bearded Bellbird  song  male   \n",
       "18  163654  Procnias  averano  averano  birds  Bearded Bellbird  song  male   \n",
       "\n",
       "    stage                      url  q length bird-seen  \n",
       "1   adult  //xeno-canto.org/742170  A   0:12       yes  \n",
       "2   adult  //xeno-canto.org/742165  A   0:38       yes  \n",
       "6          //xeno-canto.org/493159  A   0:22       yes  \n",
       "7          //xeno-canto.org/460345  A   5:44       yes  \n",
       "13         //xeno-canto.org/287540  A   0:38       yes  \n",
       "16         //xeno-canto.org/197484  A   0:20       yes  \n",
       "17         //xeno-canto.org/189848  A   0:24       yes  \n",
       "18         //xeno-canto.org/163654  A   0:30       yes  "
      ]
     },
     "execution_count": 32,
     "metadata": {},
     "output_type": "execute_result"
    }
   ],
   "source": [
    "df = df[df['bird-seen'] == 'yes']\n",
    "df"
   ]
  },
  {
   "cell_type": "code",
   "execution_count": 14,
   "metadata": {},
   "outputs": [],
   "source": [
    "url_list = list(map(tuple, df[['id', 'url']].to_numpy()))"
   ]
  },
  {
   "cell_type": "code",
   "execution_count": 13,
   "metadata": {},
   "outputs": [
    {
     "data": {
      "text/plain": [
       "'dataset/audio/Procniasaverano/'"
      ]
     },
     "execution_count": 13,
     "metadata": {},
     "output_type": "execute_result"
    }
   ],
   "source": [
    "path = \"dataset/audio/\" + df['gen'][1] + df['sp'][1] + '/'\n",
    "path"
   ]
  },
  {
   "cell_type": "code",
   "execution_count": 19,
   "metadata": {},
   "outputs": [
    {
     "data": {
      "text/plain": [
       "<coroutine object download at 0x1514a52a0>"
      ]
     },
     "execution_count": 19,
     "metadata": {},
     "output_type": "execute_result"
    }
   ],
   "source": [
    "xenocanto_download.download(url_list, path)"
   ]
  },
  {
   "cell_type": "code",
   "execution_count": null,
   "metadata": {},
   "outputs": [],
   "source": []
  }
 ],
 "metadata": {
  "kernelspec": {
   "display_name": "Python 3.10.4 ('birdsong')",
   "language": "python",
   "name": "python3"
  },
  "language_info": {
   "codemirror_mode": {
    "name": "ipython",
    "version": 3
   },
   "file_extension": ".py",
   "mimetype": "text/x-python",
   "name": "python",
   "nbconvert_exporter": "python",
   "pygments_lexer": "ipython3",
   "version": "3.10.6"
  },
  "orig_nbformat": 4,
  "vscode": {
   "interpreter": {
    "hash": "943cd2b0b234cc2a497a6d4cdebecf41edbcb6a1aca9b170d39e8e4a7041e2c7"
   }
  }
 },
 "nbformat": 4,
 "nbformat_minor": 2
}
